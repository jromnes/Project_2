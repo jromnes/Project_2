{
 "cells": [
  {
   "cell_type": "markdown",
   "id": "38e89085-01ad-49e9-afe5-deca50c37582",
   "metadata": {},
   "source": [
    "#### Define your goals:\n",
    "Determine the objective of your trading algorithm. Are you aiming for high returns, low risk, or something else? Define your metrics for success."
   ]
  },
  {
   "cell_type": "markdown",
   "id": "0e0319b0-a448-46d5-95b9-b7848e9f7b53",
   "metadata": {},
   "source": [
    "#### Imports"
   ]
  },
  {
   "cell_type": "code",
   "execution_count": 21,
   "id": "f89fe9af-3d35-432a-99c6-ef1b5f3b2236",
   "metadata": {},
   "outputs": [],
   "source": [
    "# Imports\n",
    "import os\n",
    "import requests\n",
    "import pandas as pd\n",
    "import numpy as np\n",
    "from pathlib import Path\n",
    "import hvplot.pandas\n",
    "import holoviews as hv\n",
    "import matplotlib.pyplot as plt\n",
    "from sklearn import svm\n",
    "from sklearn.preprocessing import StandardScaler\n",
    "from pandas.tseries.offsets import DateOffset\n",
    "from sklearn.metrics import classification_report\n",
    "import yfinance as yf"
   ]
  },
  {
   "cell_type": "markdown",
   "id": "b9eedb1f-ed17-49a7-aa02-79c8e899f2a7",
   "metadata": {},
   "source": [
    "#### Data Collection:\n",
    "Gather historical market data for the assets you want to trade. You can use APIs (e.g., Alpha Vantage, Yahoo Finance), paid data services, or web scraping techniques."
   ]
  },
  {
   "cell_type": "code",
   "execution_count": 28,
   "id": "2426df73-c56f-44b0-958d-326cf30679bf",
   "metadata": {},
   "outputs": [],
   "source": [
    "stock_symbol = 'TSM'  # Example stock symbol (you can change this)\n",
    "dxy_symbol = 'DXY'    # Example DXY symbol (USD currency index)\n",
    "start_date = '2020-01-01'\n",
    "end_date = '2023-01-01'"
   ]
  },
  {
   "cell_type": "code",
   "execution_count": 29,
   "id": "7aba7c49-5575-43be-aa39-7f7e79d9b86a",
   "metadata": {},
   "outputs": [
    {
     "name": "stderr",
     "output_type": "stream",
     "text": [
      "[*********************100%%**********************]  1 of 1 completed\n",
      "[*********************100%%**********************]  1 of 1 completed\n"
     ]
    }
   ],
   "source": [
    "tsm_df = yf.download(stock_symbol, start=start_date, end=end_date)['Close']\n",
    "dxy_df = yf.download(dxy_symbol, start=start_date, end=end_date)['Close']"
   ]
  },
  {
   "cell_type": "code",
   "execution_count": 30,
   "id": "2dbdc72c-19f1-4f35-9332-193af068de75",
   "metadata": {},
   "outputs": [],
   "source": [
    "stocks_df = pd.concat([tsm_df, dxy_df],axis=1, keys=['TSM', 'DXY'])"
   ]
  },
  {
   "cell_type": "code",
   "execution_count": 32,
   "id": "f0a743d9-1ad8-4390-868e-153291b1c4a0",
   "metadata": {},
   "outputs": [
    {
     "data": {
      "text/plain": [
       "TSM    756\n",
       "DXY     65\n",
       "dtype: int64"
      ]
     },
     "execution_count": 32,
     "metadata": {},
     "output_type": "execute_result"
    }
   ],
   "source": [
    "stocks_df.count()"
   ]
  },
  {
   "cell_type": "markdown",
   "id": "340e314e-69c5-42d3-ae28-78dcc62966de",
   "metadata": {},
   "source": [
    "#### Data Preprocessing:\n",
    "Clean and preprocess the collected data. This step may involve handling missing values, normalizing data, and feature engineering."
   ]
  },
  {
   "cell_type": "code",
   "execution_count": 26,
   "id": "57b724d9-54f0-4d46-9b8a-f80a8f0415de",
   "metadata": {},
   "outputs": [
    {
     "name": "stderr",
     "output_type": "stream",
     "text": [
      "/var/folders/5p/v4zbqhyd77jdlxt9_ymr025m0000gp/T/ipykernel_23784/870241621.py:2: FutureWarning: The default fill_method='pad' in Series.pct_change is deprecated and will be removed in a future version. Either fill in any non-leading NA values prior to calling pct_change or specify 'fill_method=None' to not fill NA values.\n",
      "  stocks_df['DXY Daily Returns'] = stocks_df['DXY'].pct_change()\n"
     ]
    },
    {
     "data": {
      "text/plain": [
       "TSM                  64\n",
       "DXY                  64\n",
       "TSM Daily Returns    64\n",
       "DXY Daily Returns    64\n",
       "dtype: int64"
      ]
     },
     "execution_count": 26,
     "metadata": {},
     "output_type": "execute_result"
    }
   ],
   "source": [
    "stocks_df['TSM Daily Returns'] = stocks_df['TSM'].pct_change()\n",
    "stocks_df['DXY Daily Returns'] = stocks_df['DXY'].pct_change()\n",
    "stocks_df.dropna(inplace=True)\n",
    "\n",
    "stocks_df.count()"
   ]
  },
  {
   "cell_type": "markdown",
   "id": "9e9b43d9-3567-4038-ad3f-b80f715ca08e",
   "metadata": {},
   "source": [
    "#### Feature Engineering:\n",
    "Create features from the raw data that can be used by your machine learning model to make predictions. These features could include technical indicators, fundamental metrics, or sentiment analysis from news articles."
   ]
  },
  {
   "cell_type": "code",
   "execution_count": 19,
   "id": "fc1ea4e8-544e-4292-b0f7-fdb3b32f1980",
   "metadata": {},
   "outputs": [
    {
     "data": {
      "text/plain": [
       "TSM                          0\n",
       "DXY                          0\n",
       "TSM Daily Returns            0\n",
       "DXY Daily Returns            0\n",
       "50-Day Moving Average DXY    0\n",
       "50-Day Moving Average TSM    0\n",
       "dtype: int64"
      ]
     },
     "execution_count": 19,
     "metadata": {},
     "output_type": "execute_result"
    }
   ],
   "source": [
    "# Creating and adding 50 moving averages of DXY & TSM to the dataframe\n",
    "stocks_df['50-Day Moving Average DXY'] = stocks_df['DXY'].rolling(window=50).mean()\n",
    "stocks_df['50-Day Moving Average TSM'] = stocks_df['TSM'].rolling(window=50).mean()\n",
    "stocks_df.dropna(inplace=True)\n",
    "stocks_df.count()"
   ]
  },
  {
   "cell_type": "code",
   "execution_count": 8,
   "id": "0019fdb0-a74e-415e-8131-c5caceb7ebd2",
   "metadata": {},
   "outputs": [
    {
     "data": {
      "text/html": [
       "<div>\n",
       "<style scoped>\n",
       "    .dataframe tbody tr th:only-of-type {\n",
       "        vertical-align: middle;\n",
       "    }\n",
       "\n",
       "    .dataframe tbody tr th {\n",
       "        vertical-align: top;\n",
       "    }\n",
       "\n",
       "    .dataframe thead th {\n",
       "        text-align: right;\n",
       "    }\n",
       "</style>\n",
       "<table border=\"1\" class=\"dataframe\">\n",
       "  <thead>\n",
       "    <tr style=\"text-align: right;\">\n",
       "      <th></th>\n",
       "      <th>TSM</th>\n",
       "      <th>DXY</th>\n",
       "      <th>TSM Daily Returns</th>\n",
       "      <th>DXY Daily Returns</th>\n",
       "      <th>50-Day Moving Average DXY</th>\n",
       "      <th>50-Day Moving Average TSM</th>\n",
       "      <th>Cumulative Returns TSM</th>\n",
       "      <th>Cumulative Returns DXY</th>\n",
       "    </tr>\n",
       "    <tr>\n",
       "      <th>Date</th>\n",
       "      <th></th>\n",
       "      <th></th>\n",
       "      <th></th>\n",
       "      <th></th>\n",
       "      <th></th>\n",
       "      <th></th>\n",
       "      <th></th>\n",
       "      <th></th>\n",
       "    </tr>\n",
       "  </thead>\n",
       "  <tbody>\n",
       "    <tr>\n",
       "      <th>2020-04-03</th>\n",
       "      <td>47.060001</td>\n",
       "      <td>663.409973</td>\n",
       "      <td>-0.022231</td>\n",
       "      <td>-0.009998</td>\n",
       "      <td>952.921797</td>\n",
       "      <td>55.5420</td>\n",
       "      <td>0.977769</td>\n",
       "      <td>0.990002</td>\n",
       "    </tr>\n",
       "    <tr>\n",
       "      <th>2020-04-06</th>\n",
       "      <td>49.970001</td>\n",
       "      <td>725.950012</td>\n",
       "      <td>0.061836</td>\n",
       "      <td>0.094271</td>\n",
       "      <td>947.135397</td>\n",
       "      <td>55.3936</td>\n",
       "      <td>1.038230</td>\n",
       "      <td>1.083330</td>\n",
       "    </tr>\n",
       "    <tr>\n",
       "      <th>2020-04-07</th>\n",
       "      <td>49.720001</td>\n",
       "      <td>742.539978</td>\n",
       "      <td>-0.005003</td>\n",
       "      <td>0.022853</td>\n",
       "      <td>941.254797</td>\n",
       "      <td>55.2216</td>\n",
       "      <td>1.033036</td>\n",
       "      <td>1.108087</td>\n",
       "    </tr>\n",
       "    <tr>\n",
       "      <th>2020-04-08</th>\n",
       "      <td>50.270000</td>\n",
       "      <td>748.330017</td>\n",
       "      <td>0.011062</td>\n",
       "      <td>0.007798</td>\n",
       "      <td>935.578798</td>\n",
       "      <td>55.0520</td>\n",
       "      <td>1.044463</td>\n",
       "      <td>1.116727</td>\n",
       "    </tr>\n",
       "    <tr>\n",
       "      <th>2020-04-09</th>\n",
       "      <td>48.330002</td>\n",
       "      <td>735.320007</td>\n",
       "      <td>-0.038592</td>\n",
       "      <td>-0.017385</td>\n",
       "      <td>929.322798</td>\n",
       "      <td>54.8340</td>\n",
       "      <td>1.004155</td>\n",
       "      <td>1.097312</td>\n",
       "    </tr>\n",
       "  </tbody>\n",
       "</table>\n",
       "</div>"
      ],
      "text/plain": [
       "                  TSM         DXY  TSM Daily Returns  DXY Daily Returns  \\\n",
       "Date                                                                      \n",
       "2020-04-03  47.060001  663.409973          -0.022231          -0.009998   \n",
       "2020-04-06  49.970001  725.950012           0.061836           0.094271   \n",
       "2020-04-07  49.720001  742.539978          -0.005003           0.022853   \n",
       "2020-04-08  50.270000  748.330017           0.011062           0.007798   \n",
       "2020-04-09  48.330002  735.320007          -0.038592          -0.017385   \n",
       "\n",
       "            50-Day Moving Average DXY  50-Day Moving Average TSM  \\\n",
       "Date                                                               \n",
       "2020-04-03                 952.921797                    55.5420   \n",
       "2020-04-06                 947.135397                    55.3936   \n",
       "2020-04-07                 941.254797                    55.2216   \n",
       "2020-04-08                 935.578798                    55.0520   \n",
       "2020-04-09                 929.322798                    54.8340   \n",
       "\n",
       "            Cumulative Returns TSM  Cumulative Returns DXY  \n",
       "Date                                                        \n",
       "2020-04-03                0.977769                0.990002  \n",
       "2020-04-06                1.038230                1.083330  \n",
       "2020-04-07                1.033036                1.108087  \n",
       "2020-04-08                1.044463                1.116727  \n",
       "2020-04-09                1.004155                1.097312  "
      ]
     },
     "execution_count": 8,
     "metadata": {},
     "output_type": "execute_result"
    }
   ],
   "source": [
    "# Adding columns for cumulative returns\n",
    "stocks_df['Cumulative Returns TSM'] = (1 + pd.Series(stocks_df['TSM Daily Returns'])).cumprod()\n",
    "stocks_df['Cumulative Returns DXY'] = (1 + pd.Series(stocks_df['DXY Daily Returns'])).cumprod()\n",
    "stocks_df.head()\n",
    "                                                     "
   ]
  },
  {
   "cell_type": "code",
   "execution_count": 9,
   "id": "571a4a18-bf7e-491f-b28f-cf4b04821812",
   "metadata": {},
   "outputs": [
    {
     "data": {
      "text/html": [
       "<div>\n",
       "<style scoped>\n",
       "    .dataframe tbody tr th:only-of-type {\n",
       "        vertical-align: middle;\n",
       "    }\n",
       "\n",
       "    .dataframe tbody tr th {\n",
       "        vertical-align: top;\n",
       "    }\n",
       "\n",
       "    .dataframe thead th {\n",
       "        text-align: right;\n",
       "    }\n",
       "</style>\n",
       "<table border=\"1\" class=\"dataframe\">\n",
       "  <thead>\n",
       "    <tr style=\"text-align: right;\">\n",
       "      <th></th>\n",
       "      <th>50-Day Moving Average DXY</th>\n",
       "      <th>50-Day Moving Average TSM</th>\n",
       "    </tr>\n",
       "    <tr>\n",
       "      <th>Date</th>\n",
       "      <th></th>\n",
       "      <th></th>\n",
       "    </tr>\n",
       "  </thead>\n",
       "  <tbody>\n",
       "    <tr>\n",
       "      <th>2020-04-03</th>\n",
       "      <td>952.921797</td>\n",
       "      <td>55.5420</td>\n",
       "    </tr>\n",
       "    <tr>\n",
       "      <th>2020-04-06</th>\n",
       "      <td>947.135397</td>\n",
       "      <td>55.3936</td>\n",
       "    </tr>\n",
       "    <tr>\n",
       "      <th>2020-04-07</th>\n",
       "      <td>941.254797</td>\n",
       "      <td>55.2216</td>\n",
       "    </tr>\n",
       "    <tr>\n",
       "      <th>2020-04-08</th>\n",
       "      <td>935.578798</td>\n",
       "      <td>55.0520</td>\n",
       "    </tr>\n",
       "    <tr>\n",
       "      <th>2020-04-09</th>\n",
       "      <td>929.322798</td>\n",
       "      <td>54.8340</td>\n",
       "    </tr>\n",
       "  </tbody>\n",
       "</table>\n",
       "</div>"
      ],
      "text/plain": [
       "            50-Day Moving Average DXY  50-Day Moving Average TSM\n",
       "Date                                                            \n",
       "2020-04-03                 952.921797                    55.5420\n",
       "2020-04-06                 947.135397                    55.3936\n",
       "2020-04-07                 941.254797                    55.2216\n",
       "2020-04-08                 935.578798                    55.0520\n",
       "2020-04-09                 929.322798                    54.8340"
      ]
     },
     "execution_count": 9,
     "metadata": {},
     "output_type": "execute_result"
    }
   ],
   "source": [
    "# Slicing MA data into separate dataframe\n",
    "ma_df = stocks_df[['50-Day Moving Average DXY', '50-Day Moving Average TSM']]\n",
    "ma_df.head()"
   ]
  },
  {
   "cell_type": "code",
   "execution_count": 10,
   "id": "e819c6dd-6e28-42c2-96b2-0121280c4873",
   "metadata": {},
   "outputs": [
    {
     "data": {
      "text/html": [
       "<div>\n",
       "<style scoped>\n",
       "    .dataframe tbody tr th:only-of-type {\n",
       "        vertical-align: middle;\n",
       "    }\n",
       "\n",
       "    .dataframe tbody tr th {\n",
       "        vertical-align: top;\n",
       "    }\n",
       "\n",
       "    .dataframe thead th {\n",
       "        text-align: right;\n",
       "    }\n",
       "</style>\n",
       "<table border=\"1\" class=\"dataframe\">\n",
       "  <thead>\n",
       "    <tr style=\"text-align: right;\">\n",
       "      <th></th>\n",
       "      <th>TSM</th>\n",
       "      <th>DXY</th>\n",
       "      <th>TSM Daily Returns</th>\n",
       "      <th>DXY Daily Returns</th>\n",
       "      <th>50-Day Moving Average DXY</th>\n",
       "      <th>50-Day Moving Average TSM</th>\n",
       "      <th>Cumulative Returns TSM</th>\n",
       "      <th>Cumulative Returns DXY</th>\n",
       "      <th>RSI</th>\n",
       "    </tr>\n",
       "    <tr>\n",
       "      <th>Date</th>\n",
       "      <th></th>\n",
       "      <th></th>\n",
       "      <th></th>\n",
       "      <th></th>\n",
       "      <th></th>\n",
       "      <th></th>\n",
       "      <th></th>\n",
       "      <th></th>\n",
       "      <th></th>\n",
       "    </tr>\n",
       "  </thead>\n",
       "  <tbody>\n",
       "    <tr>\n",
       "      <th>2020-04-03</th>\n",
       "      <td>47.060001</td>\n",
       "      <td>663.409973</td>\n",
       "      <td>-0.022231</td>\n",
       "      <td>-0.009998</td>\n",
       "      <td>952.921797</td>\n",
       "      <td>55.5420</td>\n",
       "      <td>0.977769</td>\n",
       "      <td>0.990002</td>\n",
       "      <td>NaN</td>\n",
       "    </tr>\n",
       "    <tr>\n",
       "      <th>2020-04-06</th>\n",
       "      <td>49.970001</td>\n",
       "      <td>725.950012</td>\n",
       "      <td>0.061836</td>\n",
       "      <td>0.094271</td>\n",
       "      <td>947.135397</td>\n",
       "      <td>55.3936</td>\n",
       "      <td>1.038230</td>\n",
       "      <td>1.083330</td>\n",
       "      <td>NaN</td>\n",
       "    </tr>\n",
       "    <tr>\n",
       "      <th>2020-04-07</th>\n",
       "      <td>49.720001</td>\n",
       "      <td>742.539978</td>\n",
       "      <td>-0.005003</td>\n",
       "      <td>0.022853</td>\n",
       "      <td>941.254797</td>\n",
       "      <td>55.2216</td>\n",
       "      <td>1.033036</td>\n",
       "      <td>1.108087</td>\n",
       "      <td>NaN</td>\n",
       "    </tr>\n",
       "    <tr>\n",
       "      <th>2020-04-08</th>\n",
       "      <td>50.270000</td>\n",
       "      <td>748.330017</td>\n",
       "      <td>0.011062</td>\n",
       "      <td>0.007798</td>\n",
       "      <td>935.578798</td>\n",
       "      <td>55.0520</td>\n",
       "      <td>1.044463</td>\n",
       "      <td>1.116727</td>\n",
       "      <td>NaN</td>\n",
       "    </tr>\n",
       "    <tr>\n",
       "      <th>2020-04-09</th>\n",
       "      <td>48.330002</td>\n",
       "      <td>735.320007</td>\n",
       "      <td>-0.038592</td>\n",
       "      <td>-0.017385</td>\n",
       "      <td>929.322798</td>\n",
       "      <td>54.8340</td>\n",
       "      <td>1.004155</td>\n",
       "      <td>1.097312</td>\n",
       "      <td>NaN</td>\n",
       "    </tr>\n",
       "    <tr>\n",
       "      <th>2020-04-13</th>\n",
       "      <td>48.750000</td>\n",
       "      <td>735.320007</td>\n",
       "      <td>0.008690</td>\n",
       "      <td>0.000000</td>\n",
       "      <td>923.109799</td>\n",
       "      <td>54.6318</td>\n",
       "      <td>1.012882</td>\n",
       "      <td>1.097312</td>\n",
       "      <td>NaN</td>\n",
       "    </tr>\n",
       "    <tr>\n",
       "      <th>2020-04-14</th>\n",
       "      <td>50.630001</td>\n",
       "      <td>754.599976</td>\n",
       "      <td>0.038564</td>\n",
       "      <td>0.026220</td>\n",
       "      <td>916.929598</td>\n",
       "      <td>54.4432</td>\n",
       "      <td>1.051943</td>\n",
       "      <td>1.126084</td>\n",
       "      <td>NaN</td>\n",
       "    </tr>\n",
       "    <tr>\n",
       "      <th>2020-04-15</th>\n",
       "      <td>49.660000</td>\n",
       "      <td>728.789978</td>\n",
       "      <td>-0.019159</td>\n",
       "      <td>-0.034204</td>\n",
       "      <td>910.394998</td>\n",
       "      <td>54.2300</td>\n",
       "      <td>1.031789</td>\n",
       "      <td>1.087568</td>\n",
       "      <td>NaN</td>\n",
       "    </tr>\n",
       "    <tr>\n",
       "      <th>2020-04-16</th>\n",
       "      <td>52.400002</td>\n",
       "      <td>746.260010</td>\n",
       "      <td>0.055175</td>\n",
       "      <td>0.023971</td>\n",
       "      <td>904.187197</td>\n",
       "      <td>54.1102</td>\n",
       "      <td>1.088718</td>\n",
       "      <td>1.113638</td>\n",
       "      <td>NaN</td>\n",
       "    </tr>\n",
       "    <tr>\n",
       "      <th>2020-04-21</th>\n",
       "      <td>51.369999</td>\n",
       "      <td>729.859985</td>\n",
       "      <td>-0.023198</td>\n",
       "      <td>-0.021976</td>\n",
       "      <td>897.365598</td>\n",
       "      <td>53.9626</td>\n",
       "      <td>1.063462</td>\n",
       "      <td>1.089164</td>\n",
       "      <td>NaN</td>\n",
       "    </tr>\n",
       "    <tr>\n",
       "      <th>2020-04-22</th>\n",
       "      <td>52.950001</td>\n",
       "      <td>731.580017</td>\n",
       "      <td>0.030757</td>\n",
       "      <td>0.002357</td>\n",
       "      <td>890.717599</td>\n",
       "      <td>53.8500</td>\n",
       "      <td>1.096171</td>\n",
       "      <td>1.091731</td>\n",
       "      <td>NaN</td>\n",
       "    </tr>\n",
       "    <tr>\n",
       "      <th>2020-04-23</th>\n",
       "      <td>52.639999</td>\n",
       "      <td>737.590027</td>\n",
       "      <td>-0.005855</td>\n",
       "      <td>0.008215</td>\n",
       "      <td>883.593000</td>\n",
       "      <td>53.7380</td>\n",
       "      <td>1.089753</td>\n",
       "      <td>1.100700</td>\n",
       "      <td>NaN</td>\n",
       "    </tr>\n",
       "    <tr>\n",
       "      <th>2020-04-24</th>\n",
       "      <td>52.730000</td>\n",
       "      <td>725.619995</td>\n",
       "      <td>0.001710</td>\n",
       "      <td>-0.016229</td>\n",
       "      <td>876.109800</td>\n",
       "      <td>53.6256</td>\n",
       "      <td>1.091616</td>\n",
       "      <td>1.082837</td>\n",
       "      <td>NaN</td>\n",
       "    </tr>\n",
       "    <tr>\n",
       "      <th>2020-04-27</th>\n",
       "      <td>53.509998</td>\n",
       "      <td>746.390015</td>\n",
       "      <td>0.014792</td>\n",
       "      <td>0.028624</td>\n",
       "      <td>869.244600</td>\n",
       "      <td>53.5462</td>\n",
       "      <td>1.107764</td>\n",
       "      <td>1.113832</td>\n",
       "      <td>70.873770</td>\n",
       "    </tr>\n",
       "    <tr>\n",
       "      <th>2020-04-29</th>\n",
       "      <td>54.480000</td>\n",
       "      <td>755.309998</td>\n",
       "      <td>0.032600</td>\n",
       "      <td>0.011951</td>\n",
       "      <td>861.874598</td>\n",
       "      <td>53.4812</td>\n",
       "      <td>1.143877</td>\n",
       "      <td>1.127143</td>\n",
       "      <td>72.594384</td>\n",
       "    </tr>\n",
       "  </tbody>\n",
       "</table>\n",
       "</div>"
      ],
      "text/plain": [
       "                  TSM         DXY  TSM Daily Returns  DXY Daily Returns  \\\n",
       "Date                                                                      \n",
       "2020-04-03  47.060001  663.409973          -0.022231          -0.009998   \n",
       "2020-04-06  49.970001  725.950012           0.061836           0.094271   \n",
       "2020-04-07  49.720001  742.539978          -0.005003           0.022853   \n",
       "2020-04-08  50.270000  748.330017           0.011062           0.007798   \n",
       "2020-04-09  48.330002  735.320007          -0.038592          -0.017385   \n",
       "2020-04-13  48.750000  735.320007           0.008690           0.000000   \n",
       "2020-04-14  50.630001  754.599976           0.038564           0.026220   \n",
       "2020-04-15  49.660000  728.789978          -0.019159          -0.034204   \n",
       "2020-04-16  52.400002  746.260010           0.055175           0.023971   \n",
       "2020-04-21  51.369999  729.859985          -0.023198          -0.021976   \n",
       "2020-04-22  52.950001  731.580017           0.030757           0.002357   \n",
       "2020-04-23  52.639999  737.590027          -0.005855           0.008215   \n",
       "2020-04-24  52.730000  725.619995           0.001710          -0.016229   \n",
       "2020-04-27  53.509998  746.390015           0.014792           0.028624   \n",
       "2020-04-29  54.480000  755.309998           0.032600           0.011951   \n",
       "\n",
       "            50-Day Moving Average DXY  50-Day Moving Average TSM  \\\n",
       "Date                                                               \n",
       "2020-04-03                 952.921797                    55.5420   \n",
       "2020-04-06                 947.135397                    55.3936   \n",
       "2020-04-07                 941.254797                    55.2216   \n",
       "2020-04-08                 935.578798                    55.0520   \n",
       "2020-04-09                 929.322798                    54.8340   \n",
       "2020-04-13                 923.109799                    54.6318   \n",
       "2020-04-14                 916.929598                    54.4432   \n",
       "2020-04-15                 910.394998                    54.2300   \n",
       "2020-04-16                 904.187197                    54.1102   \n",
       "2020-04-21                 897.365598                    53.9626   \n",
       "2020-04-22                 890.717599                    53.8500   \n",
       "2020-04-23                 883.593000                    53.7380   \n",
       "2020-04-24                 876.109800                    53.6256   \n",
       "2020-04-27                 869.244600                    53.5462   \n",
       "2020-04-29                 861.874598                    53.4812   \n",
       "\n",
       "            Cumulative Returns TSM  Cumulative Returns DXY        RSI  \n",
       "Date                                                                   \n",
       "2020-04-03                0.977769                0.990002        NaN  \n",
       "2020-04-06                1.038230                1.083330        NaN  \n",
       "2020-04-07                1.033036                1.108087        NaN  \n",
       "2020-04-08                1.044463                1.116727        NaN  \n",
       "2020-04-09                1.004155                1.097312        NaN  \n",
       "2020-04-13                1.012882                1.097312        NaN  \n",
       "2020-04-14                1.051943                1.126084        NaN  \n",
       "2020-04-15                1.031789                1.087568        NaN  \n",
       "2020-04-16                1.088718                1.113638        NaN  \n",
       "2020-04-21                1.063462                1.089164        NaN  \n",
       "2020-04-22                1.096171                1.091731        NaN  \n",
       "2020-04-23                1.089753                1.100700        NaN  \n",
       "2020-04-24                1.091616                1.082837        NaN  \n",
       "2020-04-27                1.107764                1.113832  70.873770  \n",
       "2020-04-29                1.143877                1.127143  72.594384  "
      ]
     },
     "execution_count": 10,
     "metadata": {},
     "output_type": "execute_result"
    }
   ],
   "source": [
    "# Create a column with RSI Data\n",
    "def calculate_rsi(data, window):\n",
    "    delta = data.diff()\n",
    "    gain = (delta.where(delta > 0, 0)).rolling(window=window).mean()\n",
    "    loss = (-delta.where(delta < 0, 0)).rolling(window=window).mean()\n",
    "    rs = gain / loss\n",
    "    rsi = 100 - (100 / (1 + rs))\n",
    "    return rsi\n",
    "\n",
    "# Define the window size for RSI calculation\n",
    "window = 14\n",
    "\n",
    "# Calculate RSI for the 'TSM' column\n",
    "stocks_df['RSI'] = calculate_rsi(stocks_df['TSM'], window)\n",
    "\n",
    "stocks_df.head(50)"
   ]
  },
  {
   "cell_type": "code",
   "execution_count": 11,
   "id": "466e1150-0922-419a-9faa-9f7ac9dc6f97",
   "metadata": {},
   "outputs": [
    {
     "data": {},
     "metadata": {},
     "output_type": "display_data"
    },
    {
     "data": {
      "application/vnd.holoviews_exec.v0+json": "",
      "text/html": [
       "<div id='p1004'>\n",
       "  <div id=\"c1fd4f43-a554-4231-ab33-4feb657cdb18\" data-root-id=\"p1004\" style=\"display: contents;\"></div>\n",
       "</div>\n",
       "<script type=\"application/javascript\">(function(root) {\n",
       "  var docs_json = {\"237e18c3-d301-4226-8a08-5a48b6408014\":{\"version\":\"3.3.4\",\"title\":\"Bokeh Application\",\"roots\":[{\"type\":\"object\",\"name\":\"Row\",\"id\":\"p1004\",\"attributes\":{\"name\":\"Row01044\",\"tags\":[\"embedded\"],\"stylesheets\":[\"\\n:host(.pn-loading.pn-arc):before, .pn-loading.pn-arc:before {\\n  background-image: url(\\\"data:image/svg+xml;base64,PHN2ZyB4bWxucz0iaHR0cDovL3d3dy53My5vcmcvMjAwMC9zdmciIHN0eWxlPSJtYXJnaW46IGF1dG87IGJhY2tncm91bmQ6IG5vbmU7IGRpc3BsYXk6IGJsb2NrOyBzaGFwZS1yZW5kZXJpbmc6IGF1dG87IiB2aWV3Qm94PSIwIDAgMTAwIDEwMCIgcHJlc2VydmVBc3BlY3RSYXRpbz0ieE1pZFlNaWQiPiAgPGNpcmNsZSBjeD0iNTAiIGN5PSI1MCIgZmlsbD0ibm9uZSIgc3Ryb2tlPSIjYzNjM2MzIiBzdHJva2Utd2lkdGg9IjEwIiByPSIzNSIgc3Ryb2tlLWRhc2hhcnJheT0iMTY0LjkzMzYxNDMxMzQ2NDE1IDU2Ljk3Nzg3MTQzNzgyMTM4Ij4gICAgPGFuaW1hdGVUcmFuc2Zvcm0gYXR0cmlidXRlTmFtZT0idHJhbnNmb3JtIiB0eXBlPSJyb3RhdGUiIHJlcGVhdENvdW50PSJpbmRlZmluaXRlIiBkdXI9IjFzIiB2YWx1ZXM9IjAgNTAgNTA7MzYwIDUwIDUwIiBrZXlUaW1lcz0iMDsxIj48L2FuaW1hdGVUcmFuc2Zvcm0+ICA8L2NpcmNsZT48L3N2Zz4=\\\");\\n  background-size: auto calc(min(50%, 400px));\\n}\",{\"type\":\"object\",\"name\":\"ImportedStyleSheet\",\"id\":\"p1007\",\"attributes\":{\"url\":\"https://cdn.holoviz.org/panel/1.3.8/dist/css/loading.css\"}},{\"type\":\"object\",\"name\":\"ImportedStyleSheet\",\"id\":\"p1106\",\"attributes\":{\"url\":\"https://cdn.holoviz.org/panel/1.3.8/dist/css/listpanel.css\"}},{\"type\":\"object\",\"name\":\"ImportedStyleSheet\",\"id\":\"p1005\",\"attributes\":{\"url\":\"https://cdn.holoviz.org/panel/1.3.8/dist/bundled/theme/default.css\"}},{\"type\":\"object\",\"name\":\"ImportedStyleSheet\",\"id\":\"p1006\",\"attributes\":{\"url\":\"https://cdn.holoviz.org/panel/1.3.8/dist/bundled/theme/native.css\"}}],\"min_width\":800,\"margin\":0,\"sizing_mode\":\"stretch_width\",\"align\":\"start\",\"children\":[{\"type\":\"object\",\"name\":\"Spacer\",\"id\":\"p1008\",\"attributes\":{\"name\":\"HSpacer01050\",\"stylesheets\":[\"\\n:host(.pn-loading.pn-arc):before, .pn-loading.pn-arc:before {\\n  background-image: url(\\\"data:image/svg+xml;base64,PHN2ZyB4bWxucz0iaHR0cDovL3d3dy53My5vcmcvMjAwMC9zdmciIHN0eWxlPSJtYXJnaW46IGF1dG87IGJhY2tncm91bmQ6IG5vbmU7IGRpc3BsYXk6IGJsb2NrOyBzaGFwZS1yZW5kZXJpbmc6IGF1dG87IiB2aWV3Qm94PSIwIDAgMTAwIDEwMCIgcHJlc2VydmVBc3BlY3RSYXRpbz0ieE1pZFlNaWQiPiAgPGNpcmNsZSBjeD0iNTAiIGN5PSI1MCIgZmlsbD0ibm9uZSIgc3Ryb2tlPSIjYzNjM2MzIiBzdHJva2Utd2lkdGg9IjEwIiByPSIzNSIgc3Ryb2tlLWRhc2hhcnJheT0iMTY0LjkzMzYxNDMxMzQ2NDE1IDU2Ljk3Nzg3MTQzNzgyMTM4Ij4gICAgPGFuaW1hdGVUcmFuc2Zvcm0gYXR0cmlidXRlTmFtZT0idHJhbnNmb3JtIiB0eXBlPSJyb3RhdGUiIHJlcGVhdENvdW50PSJpbmRlZmluaXRlIiBkdXI9IjFzIiB2YWx1ZXM9IjAgNTAgNTA7MzYwIDUwIDUwIiBrZXlUaW1lcz0iMDsxIj48L2FuaW1hdGVUcmFuc2Zvcm0+ICA8L2NpcmNsZT48L3N2Zz4=\\\");\\n  background-size: auto calc(min(50%, 400px));\\n}\",{\"id\":\"p1007\"},{\"id\":\"p1005\"},{\"id\":\"p1006\"}],\"margin\":0,\"sizing_mode\":\"stretch_width\",\"align\":\"start\"}},{\"type\":\"object\",\"name\":\"Figure\",\"id\":\"p1023\",\"attributes\":{\"width\":800,\"height\":400,\"margin\":[5,10],\"sizing_mode\":\"fixed\",\"align\":\"start\",\"x_range\":{\"type\":\"object\",\"name\":\"Range1d\",\"id\":\"p1009\",\"attributes\":{\"tags\":[[[\"Date\",\"Date\",null]],[]],\"start\":1585872000000.0,\"end\":1588118400000.0,\"reset_start\":1585872000000.0,\"reset_end\":1588118400000.0}},\"y_range\":{\"type\":\"object\",\"name\":\"Range1d\",\"id\":\"p1010\",\"attributes\":{\"tags\":[[[\"TSM\",\"TSM\",null]],{\"type\":\"map\",\"entries\":[[\"invert_yaxis\",false],[\"autorange\",false]]}],\"end\":100,\"reset_start\":0,\"reset_end\":100}},\"x_scale\":{\"type\":\"object\",\"name\":\"LinearScale\",\"id\":\"p1033\"},\"y_scale\":{\"type\":\"object\",\"name\":\"LinearScale\",\"id\":\"p1034\"},\"title\":{\"type\":\"object\",\"name\":\"Title\",\"id\":\"p1026\",\"attributes\":{\"text_color\":\"black\",\"text_font_size\":\"12pt\"}},\"renderers\":[{\"type\":\"object\",\"name\":\"GlyphRenderer\",\"id\":\"p1075\",\"attributes\":{\"name\":\"TSM Closing Price\",\"data_source\":{\"type\":\"object\",\"name\":\"ColumnDataSource\",\"id\":\"p1066\",\"attributes\":{\"selected\":{\"type\":\"object\",\"name\":\"Selection\",\"id\":\"p1067\",\"attributes\":{\"indices\":[],\"line_indices\":[]}},\"selection_policy\":{\"type\":\"object\",\"name\":\"UnionRenderers\",\"id\":\"p1068\"},\"data\":{\"type\":\"map\",\"entries\":[[\"Date\",{\"type\":\"ndarray\",\"array\":{\"type\":\"bytes\",\"data\":\"AABAZdUTd0IAAICWzBR3QgAAQPweFXdCAAAAYnEVd0IAAMDHwxV3QgAAwF4NF3dCAACAxF8Xd0IAAEAqshd3QgAAAJAEGHdCAADAjKAZd0IAAIDy8hl3QgAAQFhFGndCAAAAvpcad0IAAEDvjht3QgAAwLozHHdC\"},\"shape\":[15],\"dtype\":\"float64\",\"order\":\"little\"}],[\"TSM\",{\"type\":\"ndarray\",\"array\":{\"type\":\"bytes\",\"data\":\"AAAAIK6HR0AAAAAAKfxIQAAAAAAp3EhAAAAAYI8iSUAAAACAPSpIQAAAAAAAYEhAAAAA4KNQSUAAAADgetRIQAAAAEAzM0pAAAAAIFyvSUAAAACgmXlKQAAAAIDrUUpAAAAAoHBdSkAAAACgR8FKQAAAAKBwPUtA\"},\"shape\":[15],\"dtype\":\"float64\",\"order\":\"little\"}]]}}},\"view\":{\"type\":\"object\",\"name\":\"CDSView\",\"id\":\"p1076\",\"attributes\":{\"filter\":{\"type\":\"object\",\"name\":\"AllIndices\",\"id\":\"p1077\"}}},\"glyph\":{\"type\":\"object\",\"name\":\"Line\",\"id\":\"p1072\",\"attributes\":{\"tags\":[\"apply_ranges\"],\"x\":{\"type\":\"field\",\"field\":\"Date\"},\"y\":{\"type\":\"field\",\"field\":\"TSM\"},\"line_color\":\"blue\",\"line_width\":2}},\"selection_glyph\":{\"type\":\"object\",\"name\":\"Line\",\"id\":\"p1080\",\"attributes\":{\"tags\":[\"apply_ranges\"],\"x\":{\"type\":\"field\",\"field\":\"Date\"},\"y\":{\"type\":\"field\",\"field\":\"TSM\"},\"line_color\":\"blue\",\"line_width\":2}},\"nonselection_glyph\":{\"type\":\"object\",\"name\":\"Line\",\"id\":\"p1073\",\"attributes\":{\"tags\":[\"apply_ranges\"],\"x\":{\"type\":\"field\",\"field\":\"Date\"},\"y\":{\"type\":\"field\",\"field\":\"TSM\"},\"line_color\":\"blue\",\"line_alpha\":0.1,\"line_width\":2}},\"muted_glyph\":{\"type\":\"object\",\"name\":\"Line\",\"id\":\"p1074\",\"attributes\":{\"tags\":[\"apply_ranges\"],\"x\":{\"type\":\"field\",\"field\":\"Date\"},\"y\":{\"type\":\"field\",\"field\":\"TSM\"},\"line_color\":\"blue\",\"line_alpha\":0.2,\"line_width\":2}}}},{\"type\":\"object\",\"name\":\"GlyphRenderer\",\"id\":\"p1090\",\"attributes\":{\"name\":\"RSI\",\"data_source\":{\"type\":\"object\",\"name\":\"ColumnDataSource\",\"id\":\"p1081\",\"attributes\":{\"selected\":{\"type\":\"object\",\"name\":\"Selection\",\"id\":\"p1082\",\"attributes\":{\"indices\":[],\"line_indices\":[]}},\"selection_policy\":{\"type\":\"object\",\"name\":\"UnionRenderers\",\"id\":\"p1083\"},\"data\":{\"type\":\"map\",\"entries\":[[\"Date\",{\"type\":\"ndarray\",\"array\":{\"type\":\"bytes\",\"data\":\"AABAZdUTd0IAAICWzBR3QgAAQPweFXdCAAAAYnEVd0IAAMDHwxV3QgAAwF4NF3dCAACAxF8Xd0IAAEAqshd3QgAAAJAEGHdCAADAjKAZd0IAAIDy8hl3QgAAQFhFGndCAAAAvpcad0IAAEDvjht3QgAAwLozHHdC\"},\"shape\":[15],\"dtype\":\"float64\",\"order\":\"little\"}],[\"RSI\",{\"type\":\"ndarray\",\"array\":{\"type\":\"bytes\",\"data\":\"AAAAAAAA+H8AAAAAAAD4fwAAAAAAAPh/AAAAAAAA+H8AAAAAAAD4fwAAAAAAAPh/AAAAAAAA+H8AAAAAAAD4fwAAAAAAAPh/AAAAAAAA+H8AAAAAAAD4fwAAAAAAAPh/AAAAAAAA+H8ECXba67dRQKx3L2EKJlJA\"},\"shape\":[15],\"dtype\":\"float64\",\"order\":\"little\"}]]}}},\"view\":{\"type\":\"object\",\"name\":\"CDSView\",\"id\":\"p1091\",\"attributes\":{\"filter\":{\"type\":\"object\",\"name\":\"AllIndices\",\"id\":\"p1092\"}}},\"glyph\":{\"type\":\"object\",\"name\":\"Line\",\"id\":\"p1087\",\"attributes\":{\"tags\":[\"apply_ranges\"],\"x\":{\"type\":\"field\",\"field\":\"Date\"},\"y\":{\"type\":\"field\",\"field\":\"RSI\"},\"line_color\":\"orange\",\"line_width\":2}},\"selection_glyph\":{\"type\":\"object\",\"name\":\"Line\",\"id\":\"p1094\",\"attributes\":{\"tags\":[\"apply_ranges\"],\"x\":{\"type\":\"field\",\"field\":\"Date\"},\"y\":{\"type\":\"field\",\"field\":\"RSI\"},\"line_color\":\"orange\",\"line_width\":2}},\"nonselection_glyph\":{\"type\":\"object\",\"name\":\"Line\",\"id\":\"p1088\",\"attributes\":{\"tags\":[\"apply_ranges\"],\"x\":{\"type\":\"field\",\"field\":\"Date\"},\"y\":{\"type\":\"field\",\"field\":\"RSI\"},\"line_color\":\"orange\",\"line_alpha\":0.1,\"line_width\":2}},\"muted_glyph\":{\"type\":\"object\",\"name\":\"Line\",\"id\":\"p1089\",\"attributes\":{\"tags\":[\"apply_ranges\"],\"x\":{\"type\":\"field\",\"field\":\"Date\"},\"y\":{\"type\":\"field\",\"field\":\"RSI\"},\"line_color\":\"orange\",\"line_alpha\":0.2,\"line_width\":2}}}},{\"type\":\"object\",\"name\":\"Span\",\"id\":\"p1098\",\"attributes\":{\"level\":\"glyph\",\"location\":70,\"line_color\":\"#30a2da\",\"line_width\":3}},{\"type\":\"object\",\"name\":\"Span\",\"id\":\"p1102\",\"attributes\":{\"level\":\"glyph\",\"location\":30,\"line_color\":\"#fc4f30\",\"line_width\":3}}],\"toolbar\":{\"type\":\"object\",\"name\":\"Toolbar\",\"id\":\"p1032\",\"attributes\":{\"tools\":[{\"type\":\"object\",\"name\":\"WheelZoomTool\",\"id\":\"p1014\",\"attributes\":{\"tags\":[\"hv_created\"],\"renderers\":\"auto\",\"zoom_together\":\"none\"}},{\"type\":\"object\",\"name\":\"HoverTool\",\"id\":\"p1015\",\"attributes\":{\"tags\":[\"hv_created\"],\"renderers\":[{\"id\":\"p1075\"}],\"tooltips\":[[\"Date\",\"@{Date}{%F %T}\"],[\"TSM\",\"@{TSM}\"]],\"formatters\":{\"type\":\"map\",\"entries\":[[\"@{Date}\",\"datetime\"]]}}},{\"type\":\"object\",\"name\":\"HoverTool\",\"id\":\"p1018\",\"attributes\":{\"tags\":[\"hv_created\"],\"renderers\":[{\"id\":\"p1090\"}],\"tooltips\":[[\"Date\",\"@{Date}{%F %T}\"],[\"RSI\",\"@{RSI}\"]],\"formatters\":{\"type\":\"map\",\"entries\":[[\"@{Date}\",\"datetime\"]]}}},{\"type\":\"object\",\"name\":\"SaveTool\",\"id\":\"p1057\"},{\"type\":\"object\",\"name\":\"PanTool\",\"id\":\"p1058\"},{\"type\":\"object\",\"name\":\"BoxZoomTool\",\"id\":\"p1059\",\"attributes\":{\"overlay\":{\"type\":\"object\",\"name\":\"BoxAnnotation\",\"id\":\"p1060\",\"attributes\":{\"syncable\":false,\"level\":\"overlay\",\"visible\":false,\"left\":{\"type\":\"number\",\"value\":\"nan\"},\"right\":{\"type\":\"number\",\"value\":\"nan\"},\"top\":{\"type\":\"number\",\"value\":\"nan\"},\"bottom\":{\"type\":\"number\",\"value\":\"nan\"},\"left_units\":\"canvas\",\"right_units\":\"canvas\",\"top_units\":\"canvas\",\"bottom_units\":\"canvas\",\"line_color\":\"black\",\"line_alpha\":1.0,\"line_width\":2,\"line_dash\":[4,4],\"fill_color\":\"lightgrey\",\"fill_alpha\":0.5}}}},{\"type\":\"object\",\"name\":\"ResetTool\",\"id\":\"p1065\"}],\"active_drag\":{\"id\":\"p1058\"},\"active_scroll\":{\"id\":\"p1014\"}}},\"left\":[{\"type\":\"object\",\"name\":\"LinearAxis\",\"id\":\"p1052\",\"attributes\":{\"ticker\":{\"type\":\"object\",\"name\":\"BasicTicker\",\"id\":\"p1053\",\"attributes\":{\"mantissas\":[1,2,5]}},\"formatter\":{\"type\":\"object\",\"name\":\"BasicTickFormatter\",\"id\":\"p1054\"},\"axis_label\":\"Price\",\"major_label_policy\":{\"type\":\"object\",\"name\":\"AllLabels\",\"id\":\"p1055\"}}}],\"below\":[{\"type\":\"object\",\"name\":\"DatetimeAxis\",\"id\":\"p1035\",\"attributes\":{\"ticker\":{\"type\":\"object\",\"name\":\"DatetimeTicker\",\"id\":\"p1036\",\"attributes\":{\"num_minor_ticks\":5,\"tickers\":[{\"type\":\"object\",\"name\":\"AdaptiveTicker\",\"id\":\"p1037\",\"attributes\":{\"num_minor_ticks\":0,\"mantissas\":[1,2,5],\"max_interval\":500.0}},{\"type\":\"object\",\"name\":\"AdaptiveTicker\",\"id\":\"p1038\",\"attributes\":{\"num_minor_ticks\":0,\"base\":60,\"mantissas\":[1,2,5,10,15,20,30],\"min_interval\":1000.0,\"max_interval\":1800000.0}},{\"type\":\"object\",\"name\":\"AdaptiveTicker\",\"id\":\"p1039\",\"attributes\":{\"num_minor_ticks\":0,\"base\":24,\"mantissas\":[1,2,4,6,8,12],\"min_interval\":3600000.0,\"max_interval\":43200000.0}},{\"type\":\"object\",\"name\":\"DaysTicker\",\"id\":\"p1040\",\"attributes\":{\"days\":[1,2,3,4,5,6,7,8,9,10,11,12,13,14,15,16,17,18,19,20,21,22,23,24,25,26,27,28,29,30,31]}},{\"type\":\"object\",\"name\":\"DaysTicker\",\"id\":\"p1041\",\"attributes\":{\"days\":[1,4,7,10,13,16,19,22,25,28]}},{\"type\":\"object\",\"name\":\"DaysTicker\",\"id\":\"p1042\",\"attributes\":{\"days\":[1,8,15,22]}},{\"type\":\"object\",\"name\":\"DaysTicker\",\"id\":\"p1043\",\"attributes\":{\"days\":[1,15]}},{\"type\":\"object\",\"name\":\"MonthsTicker\",\"id\":\"p1044\",\"attributes\":{\"months\":[0,1,2,3,4,5,6,7,8,9,10,11]}},{\"type\":\"object\",\"name\":\"MonthsTicker\",\"id\":\"p1045\",\"attributes\":{\"months\":[0,2,4,6,8,10]}},{\"type\":\"object\",\"name\":\"MonthsTicker\",\"id\":\"p1046\",\"attributes\":{\"months\":[0,4,8]}},{\"type\":\"object\",\"name\":\"MonthsTicker\",\"id\":\"p1047\",\"attributes\":{\"months\":[0,6]}},{\"type\":\"object\",\"name\":\"YearsTicker\",\"id\":\"p1048\"}]}},\"formatter\":{\"type\":\"object\",\"name\":\"DatetimeTickFormatter\",\"id\":\"p1049\"},\"axis_label\":\"Date\",\"major_label_policy\":{\"type\":\"object\",\"name\":\"AllLabels\",\"id\":\"p1050\"}}}],\"center\":[{\"type\":\"object\",\"name\":\"Grid\",\"id\":\"p1051\",\"attributes\":{\"axis\":{\"id\":\"p1035\"},\"grid_line_color\":null}},{\"type\":\"object\",\"name\":\"Grid\",\"id\":\"p1056\",\"attributes\":{\"dimension\":1,\"axis\":{\"id\":\"p1052\"},\"grid_line_color\":null}},{\"type\":\"object\",\"name\":\"Legend\",\"id\":\"p1078\",\"attributes\":{\"click_policy\":\"mute\",\"items\":[{\"type\":\"object\",\"name\":\"LegendItem\",\"id\":\"p1079\",\"attributes\":{\"label\":{\"type\":\"value\",\"value\":\"TSM Closing Price\"},\"renderers\":[{\"id\":\"p1075\"}]}},{\"type\":\"object\",\"name\":\"LegendItem\",\"id\":\"p1093\",\"attributes\":{\"label\":{\"type\":\"value\",\"value\":\"RSI\"},\"renderers\":[{\"id\":\"p1090\"}]}}]}}],\"min_border_top\":10,\"min_border_bottom\":10,\"min_border_left\":10,\"min_border_right\":10,\"output_backend\":\"webgl\"}},{\"type\":\"object\",\"name\":\"Spacer\",\"id\":\"p1104\",\"attributes\":{\"name\":\"HSpacer01051\",\"stylesheets\":[\"\\n:host(.pn-loading.pn-arc):before, .pn-loading.pn-arc:before {\\n  background-image: url(\\\"data:image/svg+xml;base64,PHN2ZyB4bWxucz0iaHR0cDovL3d3dy53My5vcmcvMjAwMC9zdmciIHN0eWxlPSJtYXJnaW46IGF1dG87IGJhY2tncm91bmQ6IG5vbmU7IGRpc3BsYXk6IGJsb2NrOyBzaGFwZS1yZW5kZXJpbmc6IGF1dG87IiB2aWV3Qm94PSIwIDAgMTAwIDEwMCIgcHJlc2VydmVBc3BlY3RSYXRpbz0ieE1pZFlNaWQiPiAgPGNpcmNsZSBjeD0iNTAiIGN5PSI1MCIgZmlsbD0ibm9uZSIgc3Ryb2tlPSIjYzNjM2MzIiBzdHJva2Utd2lkdGg9IjEwIiByPSIzNSIgc3Ryb2tlLWRhc2hhcnJheT0iMTY0LjkzMzYxNDMxMzQ2NDE1IDU2Ljk3Nzg3MTQzNzgyMTM4Ij4gICAgPGFuaW1hdGVUcmFuc2Zvcm0gYXR0cmlidXRlTmFtZT0idHJhbnNmb3JtIiB0eXBlPSJyb3RhdGUiIHJlcGVhdENvdW50PSJpbmRlZmluaXRlIiBkdXI9IjFzIiB2YWx1ZXM9IjAgNTAgNTA7MzYwIDUwIDUwIiBrZXlUaW1lcz0iMDsxIj48L2FuaW1hdGVUcmFuc2Zvcm0+ICA8L2NpcmNsZT48L3N2Zz4=\\\");\\n  background-size: auto calc(min(50%, 400px));\\n}\",{\"id\":\"p1007\"},{\"id\":\"p1005\"},{\"id\":\"p1006\"}],\"margin\":0,\"sizing_mode\":\"stretch_width\",\"align\":\"start\"}}]}}],\"defs\":[{\"type\":\"model\",\"name\":\"ReactiveHTML1\"},{\"type\":\"model\",\"name\":\"FlexBox1\",\"properties\":[{\"name\":\"align_content\",\"kind\":\"Any\",\"default\":\"flex-start\"},{\"name\":\"align_items\",\"kind\":\"Any\",\"default\":\"flex-start\"},{\"name\":\"flex_direction\",\"kind\":\"Any\",\"default\":\"row\"},{\"name\":\"flex_wrap\",\"kind\":\"Any\",\"default\":\"wrap\"},{\"name\":\"justify_content\",\"kind\":\"Any\",\"default\":\"flex-start\"}]},{\"type\":\"model\",\"name\":\"FloatPanel1\",\"properties\":[{\"name\":\"config\",\"kind\":\"Any\",\"default\":{\"type\":\"map\"}},{\"name\":\"contained\",\"kind\":\"Any\",\"default\":true},{\"name\":\"position\",\"kind\":\"Any\",\"default\":\"right-top\"},{\"name\":\"offsetx\",\"kind\":\"Any\",\"default\":null},{\"name\":\"offsety\",\"kind\":\"Any\",\"default\":null},{\"name\":\"theme\",\"kind\":\"Any\",\"default\":\"primary\"},{\"name\":\"status\",\"kind\":\"Any\",\"default\":\"normalized\"}]},{\"type\":\"model\",\"name\":\"GridStack1\",\"properties\":[{\"name\":\"mode\",\"kind\":\"Any\",\"default\":\"warn\"},{\"name\":\"ncols\",\"kind\":\"Any\",\"default\":null},{\"name\":\"nrows\",\"kind\":\"Any\",\"default\":null},{\"name\":\"allow_resize\",\"kind\":\"Any\",\"default\":true},{\"name\":\"allow_drag\",\"kind\":\"Any\",\"default\":true},{\"name\":\"state\",\"kind\":\"Any\",\"default\":[]}]},{\"type\":\"model\",\"name\":\"drag1\",\"properties\":[{\"name\":\"slider_width\",\"kind\":\"Any\",\"default\":5},{\"name\":\"slider_color\",\"kind\":\"Any\",\"default\":\"black\"},{\"name\":\"value\",\"kind\":\"Any\",\"default\":50}]},{\"type\":\"model\",\"name\":\"click1\",\"properties\":[{\"name\":\"terminal_output\",\"kind\":\"Any\",\"default\":\"\"},{\"name\":\"debug_name\",\"kind\":\"Any\",\"default\":\"\"},{\"name\":\"clears\",\"kind\":\"Any\",\"default\":0}]},{\"type\":\"model\",\"name\":\"copy_to_clipboard1\",\"properties\":[{\"name\":\"fill\",\"kind\":\"Any\",\"default\":\"none\"},{\"name\":\"value\",\"kind\":\"Any\",\"default\":null}]},{\"type\":\"model\",\"name\":\"FastWrapper1\",\"properties\":[{\"name\":\"object\",\"kind\":\"Any\",\"default\":null},{\"name\":\"style\",\"kind\":\"Any\",\"default\":null}]},{\"type\":\"model\",\"name\":\"NotificationAreaBase1\",\"properties\":[{\"name\":\"js_events\",\"kind\":\"Any\",\"default\":{\"type\":\"map\"}},{\"name\":\"position\",\"kind\":\"Any\",\"default\":\"bottom-right\"},{\"name\":\"_clear\",\"kind\":\"Any\",\"default\":0}]},{\"type\":\"model\",\"name\":\"NotificationArea1\",\"properties\":[{\"name\":\"js_events\",\"kind\":\"Any\",\"default\":{\"type\":\"map\"}},{\"name\":\"notifications\",\"kind\":\"Any\",\"default\":[]},{\"name\":\"position\",\"kind\":\"Any\",\"default\":\"bottom-right\"},{\"name\":\"_clear\",\"kind\":\"Any\",\"default\":0},{\"name\":\"types\",\"kind\":\"Any\",\"default\":[{\"type\":\"map\",\"entries\":[[\"type\",\"warning\"],[\"background\",\"#ffc107\"],[\"icon\",{\"type\":\"map\",\"entries\":[[\"className\",\"fas fa-exclamation-triangle\"],[\"tagName\",\"i\"],[\"color\",\"white\"]]}]]},{\"type\":\"map\",\"entries\":[[\"type\",\"info\"],[\"background\",\"#007bff\"],[\"icon\",{\"type\":\"map\",\"entries\":[[\"className\",\"fas fa-info-circle\"],[\"tagName\",\"i\"],[\"color\",\"white\"]]}]]}]}]},{\"type\":\"model\",\"name\":\"Notification\",\"properties\":[{\"name\":\"background\",\"kind\":\"Any\",\"default\":null},{\"name\":\"duration\",\"kind\":\"Any\",\"default\":3000},{\"name\":\"icon\",\"kind\":\"Any\",\"default\":null},{\"name\":\"message\",\"kind\":\"Any\",\"default\":\"\"},{\"name\":\"notification_type\",\"kind\":\"Any\",\"default\":null},{\"name\":\"_destroyed\",\"kind\":\"Any\",\"default\":false}]},{\"type\":\"model\",\"name\":\"TemplateActions1\",\"properties\":[{\"name\":\"open_modal\",\"kind\":\"Any\",\"default\":0},{\"name\":\"close_modal\",\"kind\":\"Any\",\"default\":0}]},{\"type\":\"model\",\"name\":\"BootstrapTemplateActions1\",\"properties\":[{\"name\":\"open_modal\",\"kind\":\"Any\",\"default\":0},{\"name\":\"close_modal\",\"kind\":\"Any\",\"default\":0}]},{\"type\":\"model\",\"name\":\"MaterialTemplateActions1\",\"properties\":[{\"name\":\"open_modal\",\"kind\":\"Any\",\"default\":0},{\"name\":\"close_modal\",\"kind\":\"Any\",\"default\":0}]}]}};\n",
       "  var render_items = [{\"docid\":\"237e18c3-d301-4226-8a08-5a48b6408014\",\"roots\":{\"p1004\":\"c1fd4f43-a554-4231-ab33-4feb657cdb18\"},\"root_ids\":[\"p1004\"]}];\n",
       "  var docs = Object.values(docs_json)\n",
       "  if (!docs) {\n",
       "    return\n",
       "  }\n",
       "  const py_version = docs[0].version.replace('rc', '-rc.').replace('.dev', '-dev.')\n",
       "  function embed_document(root) {\n",
       "    var Bokeh = get_bokeh(root)\n",
       "    Bokeh.embed.embed_items_notebook(docs_json, render_items);\n",
       "    for (const render_item of render_items) {\n",
       "      for (const root_id of render_item.root_ids) {\n",
       "\tconst id_el = document.getElementById(root_id)\n",
       "\tif (id_el.children.length && (id_el.children[0].className === 'bk-root')) {\n",
       "\t  const root_el = id_el.children[0]\n",
       "\t  root_el.id = root_el.id + '-rendered'\n",
       "\t}\n",
       "      }\n",
       "    }\n",
       "  }\n",
       "  function get_bokeh(root) {\n",
       "    if (root.Bokeh === undefined) {\n",
       "      return null\n",
       "    } else if (root.Bokeh.version !== py_version) {\n",
       "      if (root.Bokeh.versions === undefined || !root.Bokeh.versions.has(py_version)) {\n",
       "\treturn null\n",
       "      }\n",
       "      return root.Bokeh.versions.get(py_version);\n",
       "    } else if (root.Bokeh.version === py_version) {\n",
       "      return root.Bokeh\n",
       "    }\n",
       "    return null\n",
       "  }\n",
       "  function is_loaded(root) {\n",
       "    var Bokeh = get_bokeh(root)\n",
       "    return (Bokeh != null && Bokeh.Panel !== undefined)\n",
       "  }\n",
       "  if (is_loaded(root)) {\n",
       "    embed_document(root);\n",
       "  } else {\n",
       "    var attempts = 0;\n",
       "    var timer = setInterval(function(root) {\n",
       "      if (is_loaded(root)) {\n",
       "        clearInterval(timer);\n",
       "        embed_document(root);\n",
       "      } else if (document.readyState == \"complete\") {\n",
       "        attempts++;\n",
       "        if (attempts > 200) {\n",
       "          clearInterval(timer);\n",
       "\t  var Bokeh = get_bokeh(root)\n",
       "\t  if (Bokeh == null || Bokeh.Panel == null) {\n",
       "            console.warn(\"Panel: ERROR: Unable to run Panel code because Bokeh or Panel library is missing\");\n",
       "\t  } else {\n",
       "\t    console.warn(\"Panel: WARNING: Attempting to render but not all required libraries could be resolved.\")\n",
       "\t    embed_document(root)\n",
       "\t  }\n",
       "        }\n",
       "      }\n",
       "    }, 25, root)\n",
       "  }\n",
       "})(window);</script>"
      ],
      "text/plain": [
       ":Overlay\n",
       "   .Curve.TSM_Closing_Price :Curve   [Date]   (TSM)\n",
       "   .Curve.RSI               :Curve   [Date]   (RSI)\n",
       "   .HLine.I                 :HLine   [x,y]\n",
       "   .HLine.II                :HLine   [x,y]"
      ]
     },
     "execution_count": 11,
     "metadata": {
      "application/vnd.holoviews_exec.v0+json": {
       "id": "p1004"
      }
     },
     "output_type": "execute_result"
    }
   ],
   "source": [
    "closing_price_plot = stocks_df.hvplot.line(x='Date', y='TSM', xlabel='Date', ylabel='Price', label='TSM Closing Price', color='blue', width=800, height=400)\n",
    "rsi_plot = stocks_df.hvplot.line(x='Date', y='RSI', xlabel='Date', ylabel='RSI', label='RSI', color='orange', ylim=(0, 100), width=800, height=200) * hv.HLine(y=70) * hv.HLine(y=30)\n",
    "\n",
    "closing_price_plot * rsi_plot"
   ]
  },
  {
   "cell_type": "code",
   "execution_count": 12,
   "id": "ca3b946f-129c-45a5-9498-14df34e29b41",
   "metadata": {},
   "outputs": [],
   "source": [
    "# Create Signals column/df"
   ]
  },
  {
   "cell_type": "markdown",
   "id": "4f0fe96a-890a-4cf6-8e1d-9ba6af03be7b",
   "metadata": {},
   "source": [
    "#### Split Data:\n",
    "Split your data into training, validation, and testing sets. The training set is used to train the model, the validation set is used for hyperparameter tuning, and the testing set is used to evaluate the model's performance."
   ]
  },
  {
   "cell_type": "code",
   "execution_count": 13,
   "id": "7d4f524a-cfee-4e32-a9d7-cb2630aa6874",
   "metadata": {},
   "outputs": [
    {
     "ename": "SyntaxError",
     "evalue": "invalid syntax (501904784.py, line 2)",
     "output_type": "error",
     "traceback": [
      "\u001b[0;36m  Cell \u001b[0;32mIn[13], line 2\u001b[0;36m\u001b[0m\n\u001b[0;31m    X = # (Insert column names).shift().dropna()\u001b[0m\n\u001b[0m        ^\u001b[0m\n\u001b[0;31mSyntaxError\u001b[0m\u001b[0;31m:\u001b[0m invalid syntax\n"
     ]
    }
   ],
   "source": [
    "# Assign a copy of the 50 day MA & RSI columns to a features DataFrame called X\n",
    "X = # (Insert column names).shift().dropna()\n",
    "\n",
    "# Review the DataFrame\n",
    "X.head()"
   ]
  },
  {
   "cell_type": "code",
   "execution_count": null,
   "id": "8c34a6f3-5546-48fa-aa85-4a9e7a9ab132",
   "metadata": {},
   "outputs": [],
   "source": [
    "# Create the target set selecting the Signal column and assiging it to y\n",
    "y = #Insert signal column name here\n",
    "\n",
    "# Review the value counts\n",
    "y.value_counts()"
   ]
  },
  {
   "cell_type": "code",
   "execution_count": null,
   "id": "994bf8f2-3a60-4a1d-aa46-54d28f02e597",
   "metadata": {},
   "outputs": [],
   "source": [
    "# Select the start of the training period\n",
    "training_begin = X.index.min()\n",
    "\n",
    "# Display the training begin date\n",
    "print(training_begin)"
   ]
  },
  {
   "cell_type": "code",
   "execution_count": null,
   "id": "4d499549-77f6-471d-b36b-6b12737c418c",
   "metadata": {},
   "outputs": [],
   "source": [
    "# Select the ending period for the training data with an offset of 3 months\n",
    "training_end = X.index.min() + DateOffset(months=24)\n",
    "\n",
    "# Display the training end date\n",
    "print(training_end)"
   ]
  },
  {
   "cell_type": "code",
   "execution_count": null,
   "id": "fe753b1c-a56f-46f8-b62e-ffd37aa037af",
   "metadata": {},
   "outputs": [],
   "source": [
    "# Generate the X_train and y_train DataFrames\n",
    "X_train = X.loc[training_begin:training_end]\n",
    "y_train = y.loc[training_begin:training_end]\n",
    "\n",
    "# Review the X_train DataFrame\n",
    "X_train.head()"
   ]
  },
  {
   "cell_type": "code",
   "execution_count": null,
   "id": "ed58b504-5664-4f31-8141-81c79ae166ee",
   "metadata": {},
   "outputs": [],
   "source": [
    "# Generate the X_test and y_test DataFrames\n",
    "X_test = X.loc[training_end+DateOffset(hours=1):]\n",
    "y_test = y.loc[training_end+DateOffset(hours=1):]\n",
    "\n",
    "# Review the X_test DataFrame\n",
    "X_test.head()"
   ]
  },
  {
   "cell_type": "markdown",
   "id": "7f317274-4589-4b5c-b2bf-2728c4daefcc",
   "metadata": {},
   "source": [
    "#### Model Selection:\n",
    "Choose a machine learning model suitable for your problem. Common models for trading algorithms include linear regression, decision trees, random forests, support vector machines, and neural networks."
   ]
  },
  {
   "cell_type": "code",
   "execution_count": null,
   "id": "15c2f68d-1cea-47ae-8ab3-2ed9c9aa0bf2",
   "metadata": {},
   "outputs": [],
   "source": [
    "# Scale the features DataFrames\n",
    "\n",
    "# Create a StandardScaler instance\n",
    "scaler = StandardScaler()\n",
    "\n",
    "# Apply the scaler model to fit the X-train data\n",
    "X_scaler = scaler.fit(X_train)\n",
    "\n",
    "# Transform the X_train and X_test DataFrames using the X_scaler\n",
    "X_train_scaled = X_scaler.transform(X_train)\n",
    "X_test_scaled = X_scaler.transform(X_test)"
   ]
  },
  {
   "cell_type": "markdown",
   "id": "1d9b12a4-e127-4faa-8e24-8b7fc4c71af6",
   "metadata": {},
   "source": []
  },
  {
   "cell_type": "markdown",
   "id": "d5a4de8f-bf0b-4075-beb5-4193355304bf",
   "metadata": {},
   "source": [
    "#### Model Training:\n",
    "Train your chosen model using the training data. Tune hyperparameters using the validation set to improve performance."
   ]
  },
  {
   "cell_type": "markdown",
   "id": "2e82897c-61cf-4c5c-baa5-56648722e581",
   "metadata": {},
   "source": []
  },
  {
   "cell_type": "markdown",
   "id": "b62b25d2-212d-4f0c-8dda-ba9ecd7d0d08",
   "metadata": {},
   "source": [
    "#### Model Evaluation:\n",
    "Evaluate the trained model's performance using the testing set. Common evaluation metrics for trading algorithms include accuracy, precision, recall, and profit/loss metrics."
   ]
  },
  {
   "cell_type": "markdown",
   "id": "d2f94e34-f9ff-4170-9ca4-fa5d7c533d96",
   "metadata": {},
   "source": []
  },
  {
   "cell_type": "markdown",
   "id": "73a875d5-711b-4d10-bc62-f3e62eaf1ed7",
   "metadata": {},
   "source": [
    "#### Backtesting:\n",
    "Implement a backtesting framework to simulate trading based on historical data. Evaluate the model's performance on unseen data and analyze its profitability and risk-adjusted returns."
   ]
  },
  {
   "cell_type": "markdown",
   "id": "992465c4-f302-46e0-bd84-66853aff7e5a",
   "metadata": {},
   "source": []
  },
  {
   "cell_type": "markdown",
   "id": "391d01a8-f62c-49dc-8961-fc4aaf2f4de7",
   "metadata": {},
   "source": [
    "#### Optimization and Refinement:\n",
    "Refine your model by iterating through steps 4-9. Experiment with different features, models, and hyperparameters to improve performance."
   ]
  },
  {
   "cell_type": "markdown",
   "id": "0043ac13-9204-4aaf-aadc-8b20898a36b4",
   "metadata": {},
   "source": []
  },
  {
   "cell_type": "markdown",
   "id": "bd4d7be8-9e13-49fa-af46-73204d0d271f",
   "metadata": {},
   "source": [
    "#### Deployment:\n",
    "Once satisfied with the model's performance, deploy it in a live trading environment. Be cautious and start with small investments to mitigate risks."
   ]
  },
  {
   "cell_type": "code",
   "execution_count": null,
   "id": "b5d96691-7eff-47f7-855f-0171aaa1288d",
   "metadata": {},
   "outputs": [],
   "source": []
  },
  {
   "cell_type": "markdown",
   "id": "1963393e-6574-476f-a86b-9f69acd230e6",
   "metadata": {},
   "source": [
    "#### Monitoring and Maintenance:\n",
    "Continuously monitor the model's performance in real-time trading and update it as needed. Markets change, so your model may need adjustments over time"
   ]
  },
  {
   "cell_type": "markdown",
   "id": "4b02b670-097f-4da8-afa0-fc89925b0f45",
   "metadata": {},
   "source": []
  }
 ],
 "metadata": {
  "kernelspec": {
   "display_name": "Python 3 (ipykernel)",
   "language": "python",
   "name": "python3"
  },
  "language_info": {
   "codemirror_mode": {
    "name": "ipython",
    "version": 3
   },
   "file_extension": ".py",
   "mimetype": "text/x-python",
   "name": "python",
   "nbconvert_exporter": "python",
   "pygments_lexer": "ipython3",
   "version": "3.10.13"
  }
 },
 "nbformat": 4,
 "nbformat_minor": 5
}
